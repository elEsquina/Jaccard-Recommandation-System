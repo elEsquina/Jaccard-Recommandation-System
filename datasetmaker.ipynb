{
 "cells": [
  {
   "attachments": {},
   "cell_type": "markdown",
   "metadata": {},
   "source": [
    "#### This file is just for creating the dataset for the main system"
   ]
  },
  {
   "cell_type": "code",
   "execution_count": null,
   "metadata": {},
   "outputs": [],
   "source": [
    "from recommendation_core import extract_keywords\n",
    "from my_classes import *"
   ]
  },
  {
   "attachments": {},
   "cell_type": "markdown",
   "metadata": {},
   "source": [
    "### Step 0: Loads the system and initializes a session"
   ]
  },
  {
   "cell_type": "code",
   "execution_count": null,
   "metadata": {},
   "outputs": [],
   "source": [
    "session = Session.get_session()"
   ]
  },
  {
   "attachments": {},
   "cell_type": "markdown",
   "metadata": {},
   "source": [
    "### Step 1: Loads titles and names from the txt files"
   ]
  },
  {
   "cell_type": "code",
   "execution_count": null,
   "metadata": {},
   "outputs": [],
   "source": [
    "with open(\"dataset.txt\", \"r\") as file:\n",
    "    file_content = file.read().replace('\"', \"\") # Getting the file content\n",
    "    file_lines = file_content.split(\"\\n\") # Making each line into a list\n",
    "\n",
    "with open(\"namedataset.txt\", \"r\") as file:\n",
    "    file_content = file.read().replace(\" \", \"\") # Same as above\n",
    "    names = file_content.split(\"\\n\")"
   ]
  },
  {
   "attachments": {},
   "cell_type": "markdown",
   "metadata": {},
   "source": [
    "### Step 2: Generate users from the loadded names"
   ]
  },
  {
   "cell_type": "code",
   "execution_count": null,
   "metadata": {},
   "outputs": [],
   "source": [
    "import random \n",
    "\n",
    "for name in names:\n",
    "    session.create_account(name, \"1234\")\n",
    "\n",
    "for ID, user in session.registered_users.items():\n",
    "    chosen_users = random.choices(list(session.registered_users.keys()), k = random.randint(1, 20))\n",
    "\n",
    "    for mini_ID in chosen_users:\n",
    "        user.subscribe(int(mini_ID))\n"
   ]
  },
  {
   "attachments": {},
   "cell_type": "markdown",
   "metadata": {},
   "source": [
    "### This functions ensures that all the titles in the dataset are split between the users randomly"
   ]
  },
  {
   "cell_type": "code",
   "execution_count": null,
   "metadata": {},
   "outputs": [],
   "source": [
    "def split_between(left: int, max: int) -> list[str]:\n",
    "    global file_lines\n",
    "    chosen = random.randint(0, max)\n",
    "    ret_list = random.choices(file_lines, k = chosen)\n",
    "    \n",
    "    for i in ret_list:\n",
    "        if i in file_lines:\n",
    "            file_lines.remove(i)\n",
    "    \n",
    "    return left - chosen, ret_list"
   ]
  },
  {
   "attachments": {},
   "cell_type": "markdown",
   "metadata": {},
   "source": [
    "### Step 3: Each user uploads the videos that got attributed to him from the above function"
   ]
  },
  {
   "cell_type": "code",
   "execution_count": null,
   "metadata": {},
   "outputs": [],
   "source": [
    "left = len(file_lines)\n",
    "\n",
    "for ID, user in session.registered_users.items():    \n",
    "    if left <= 0:\n",
    "        break\n",
    "\n",
    "    left, chosen_vids = split_between(left, min(6, left))\n",
    "    for vid_title in chosen_vids:\n",
    "        user.upload(vid_title)"
   ]
  },
  {
   "attachments": {},
   "cell_type": "markdown",
   "metadata": {},
   "source": [
    "### Step 4: All the users watches random videos and randomly decides to either likes them or dislikes them"
   ]
  },
  {
   "cell_type": "code",
   "execution_count": null,
   "metadata": {},
   "outputs": [],
   "source": [
    "for ID, user in session.registered_users.items():\n",
    "    chosen_vids = random.choices(list(session.registered_videos.keys()), k = random.randint(1, len(session.registered_videos)))\n",
    "\n",
    "    for vid_id in chosen_vids:\n",
    "        user.watch_video(int(vid_id))\n",
    "        if random.randint(0,1) == 0:\n",
    "            user.dislike(int(vid_id))\n",
    "        else: \n",
    "            user.like(int(vid_id))"
   ]
  },
  {
   "attachments": {},
   "cell_type": "markdown",
   "metadata": {},
   "source": [
    "### Step 5: Saves the system state into the dataset"
   ]
  },
  {
   "cell_type": "code",
   "execution_count": null,
   "metadata": {},
   "outputs": [],
   "source": [
    "session.save()"
   ]
  }
 ],
 "metadata": {
  "kernelspec": {
   "display_name": "Python 3",
   "language": "python",
   "name": "python3"
  },
  "language_info": {
   "codemirror_mode": {
    "name": "ipython",
    "version": 3
   },
   "file_extension": ".py",
   "mimetype": "text/x-python",
   "name": "python",
   "nbconvert_exporter": "python",
   "pygments_lexer": "ipython3",
   "version": "3.10.6"
  },
  "orig_nbformat": 4
 },
 "nbformat": 4,
 "nbformat_minor": 2
}
