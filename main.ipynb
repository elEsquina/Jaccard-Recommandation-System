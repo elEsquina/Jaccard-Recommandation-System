{
 "cells": [
  {
   "cell_type": "code",
   "execution_count": null,
   "metadata": {},
   "outputs": [],
   "source": [
    "!pip install nltk"
   ]
  },
  {
   "attachments": {},
   "cell_type": "markdown",
   "metadata": {},
   "source": [
    "###  Loads the system and initializes a session"
   ]
  },
  {
   "cell_type": "code",
   "execution_count": null,
   "metadata": {},
   "outputs": [],
   "source": [
    "from my_classes import Session\n",
    "my_session = Session.get_session()"
   ]
  },
  {
   "attachments": {},
   "cell_type": "markdown",
   "metadata": {},
   "source": [
    "### Creates an account\n",
    "##### In this case we have already setted up a test account, its enough to just login to it"
   ]
  },
  {
   "cell_type": "code",
   "execution_count": 3,
   "metadata": {},
   "outputs": [
    {
     "name": "stdout",
     "output_type": "stream",
     "text": [
      "Successfully logged in as Othmane\n"
     ]
    }
   ],
   "source": [
    "#my_user = my_session.create_account(\"Othmane\", \"459\")\n",
    "my_user = my_session.login(344, \"459\")"
   ]
  },
  {
   "attachments": {},
   "cell_type": "markdown",
   "metadata": {},
   "source": [
    "### We perform a recommendation, since the account is still new and never watched any videos the recommendations are random"
   ]
  },
  {
   "cell_type": "code",
   "execution_count": 4,
   "metadata": {},
   "outputs": [
    {
     "name": "stdout",
     "output_type": "stream",
     "text": [
      "Name: 10 Tips for Starting a Successful YouTube Channel\n",
      "ID: 91\n",
      "Owner id:1\n",
      "Likes: 21\n",
      "Dislikes: 16\n",
      "Views: 39\n",
      "Tags: 10, Tips, Starting, Successful, YouTube, Channel\n",
      "=================\n",
      "Name: 10 Quick and Easy Hairstyles for Any Occasion\n",
      "ID: 343\n",
      "Owner id:90\n",
      "Likes: 26\n",
      "Dislikes: 23\n",
      "Views: 49\n",
      "Tags: 10, Quick, Easy, Hairstyles, Occasion\n",
      "=================\n",
      "Name: Photography Tutorial: Mastering Composition and Lighting\n",
      "ID: 342\n",
      "Owner id:90\n",
      "Likes: 27\n",
      "Dislikes: 23\n",
      "Views: 50\n",
      "Tags: Photography, Tutorial, Mastering, Composition, Lighting\n",
      "=================\n",
      "Name: The Future of Technology: Innovations That Will Change the World\n",
      "ID: 341\n",
      "Owner id:90\n",
      "Likes: 20\n",
      "Dislikes: 22\n",
      "Views: 42\n",
      "Tags: Future, Technology, Innovations, Change, World\n",
      "=================\n",
      "Name: 10 Easy DIY Crafts for Home Decoration\n",
      "ID: 340\n",
      "Owner id:90\n",
      "Likes: 29\n",
      "Dislikes: 17\n",
      "Views: 46\n",
      "Tags: 10, Easy, DIY, Crafts, Home, Decoration\n",
      "=================\n",
      "Name: Exploring Cultural Festivals: Celebrating Diversity\n",
      "ID: 339\n",
      "Owner id:89\n",
      "Likes: 19\n",
      "Dislikes: 16\n",
      "Views: 37\n",
      "Tags: Exploring, Cultural, Festivals, Celebrating, Diversity\n",
      "=================\n",
      "Name: 10 Essential Skills for Successful Entrepreneurship\n",
      "ID: 338\n",
      "Owner id:89\n",
      "Likes: 20\n",
      "Dislikes: 27\n",
      "Views: 47\n",
      "Tags: 10, Essential, Skills, Successful, Entrepreneurship\n",
      "=================\n",
      "Name: 10 Mind-Blowing Facts About Technology and Innovation\n",
      "ID: 337\n",
      "Owner id:89\n",
      "Likes: 24\n",
      "Dislikes: 19\n",
      "Views: 43\n",
      "Tags: 10, Mind-Blowing, Facts, Technology, Innovation\n",
      "=================\n",
      "Name: 10 Mind-Blowing Optical Illusions\n",
      "ID: 336\n",
      "Owner id:89\n",
      "Likes: 21\n",
      "Dislikes: 27\n",
      "Views: 48\n",
      "Tags: 10, Mind-Blowing, Optical, Illusions\n",
      "=================\n",
      "Name: Unboxing the Latest Fashion Trends: Hot Styles Revealed\n",
      "ID: 335\n",
      "Owner id:89\n",
      "Likes: 20\n",
      "Dislikes: 26\n",
      "Views: 46\n",
      "Tags: Unboxing, Latest, Fashion, Trends, Hot, Styles, Revealed\n",
      "=================\n"
     ]
    }
   ],
   "source": [
    "heap = my_session.recommend()\n",
    "\n",
    "i = 0\n",
    "while len(heap) != 0 and i < 10:\n",
    "    vid_id = heap.pop().id\n",
    "    print(my_session.registered_videos[vid_id])\n",
    "    print(\"=================\")\n",
    "    i += 1"
   ]
  },
  {
   "attachments": {},
   "cell_type": "markdown",
   "metadata": {},
   "source": [
    "### The user watches two videos"
   ]
  },
  {
   "cell_type": "code",
   "execution_count": 5,
   "metadata": {},
   "outputs": [
    {
     "name": "stdout",
     "output_type": "stream",
     "text": [
      "Successfully watched video with ID 91\n",
      "Successfully watched video with ID 339\n"
     ]
    }
   ],
   "source": [
    "my_user.watch_video(91)  # 10 Tips for Starting a Successful YouTube Channel 91\n",
    "my_user.watch_video(339) # Exploring Cultural Festivals: Celebrating Diversity 339\n"
   ]
  },
  {
   "attachments": {},
   "cell_type": "markdown",
   "metadata": {},
   "source": [
    "### We perform another recommendation and we could notice how the action of watching the last two videos have heavily influenced the recommendations"
   ]
  },
  {
   "cell_type": "code",
   "execution_count": 6,
   "metadata": {},
   "outputs": [
    {
     "name": "stdout",
     "output_type": "stream",
     "text": [
      "Name: 10 Tips for Effective Leadership\n",
      "ID: 323\n",
      "Owner id:84\n",
      "Likes: 33\n",
      "Dislikes: 29\n",
      "Views: 62\n",
      "Tags: 10, Tips, Effective, Leadership\n",
      "=================\n",
      "Name: Exploring World Cuisines: A Culinary Journey\n",
      "ID: 113\n",
      "Owner id:8\n",
      "Likes: 29\n",
      "Dislikes: 30\n",
      "Views: 59\n",
      "Tags: Exploring, World, Cuisines, Culinary, Journey\n",
      "=================\n",
      "Name: 10 Tips for Building Healthy Relationships\n",
      "ID: 139\n",
      "Owner id:18\n",
      "Likes: 21\n",
      "Dislikes: 38\n",
      "Views: 59\n",
      "Tags: 10, Tips, Building, Healthy, Relationships\n",
      "=================\n",
      "Name: Exploring Cultural Festivals: Celebrating Diversity\n",
      "ID: 289\n",
      "Owner id:72\n",
      "Likes: 30\n",
      "Dislikes: 23\n",
      "Views: 53\n",
      "Tags: Exploring, Cultural, Festivals, Celebrating, Diversity\n",
      "=================\n",
      "Name: Exploring Ancient Civilizations: Mysteries of the Past\n",
      "ID: 146\n",
      "Owner id:19\n",
      "Likes: 21\n",
      "Dislikes: 37\n",
      "Views: 58\n",
      "Tags: Exploring, Ancient, Civilizations, Mysteries, Past\n",
      "=================\n",
      "Name: Exploring Abandoned Places: Forgotten History and Urban Exploration\n",
      "ID: 316\n",
      "Owner id:83\n",
      "Likes: 34\n",
      "Dislikes: 21\n",
      "Views: 55\n",
      "Tags: Exploring, Abandoned, Places, Forgotten, History, Urban, Exploration\n",
      "=================\n",
      "Name: 10 Tips for a Positive Mindset\n",
      "ID: 188\n",
      "Owner id:34\n",
      "Likes: 28\n",
      "Dislikes: 28\n",
      "Views: 56\n",
      "Tags: 10, Tips, Positive, Mindset\n",
      "=================\n",
      "Name: Exploring Ancient Mythology: Gods, Heroes, and Legends\n",
      "ID: 215\n",
      "Owner id:42\n",
      "Likes: 30\n",
      "Dislikes: 25\n",
      "Views: 55\n",
      "Tags: ,, Exploring, Ancient, Mythology, Gods, Heroes, Legends\n",
      "=================\n",
      "Name: Exploring Abandoned Places: Forgotten History and Urban Exploration\n",
      "ID: 125\n",
      "Owner id:13\n",
      "Likes: 28\n",
      "Dislikes: 27\n",
      "Views: 55\n",
      "Tags: Exploring, Abandoned, Places, Forgotten, History, Urban, Exploration\n",
      "=================\n",
      "Name: 10 Tips for a Healthy Lifestyle\n",
      "ID: 250\n",
      "Owner id:58\n",
      "Likes: 26\n",
      "Dislikes: 29\n",
      "Views: 55\n",
      "Tags: 10, Tips, Healthy, Lifestyle\n",
      "=================\n"
     ]
    }
   ],
   "source": [
    "heap = my_session.recommend()\n",
    "\n",
    "i = 0\n",
    "while len(heap) != 0 and i < 10:\n",
    "    vid_id = heap.pop().id\n",
    "    print(my_session.registered_videos[vid_id])\n",
    "    print(\"=================\")\n",
    "    i += 1"
   ]
  },
  {
   "attachments": {},
   "cell_type": "markdown",
   "metadata": {},
   "source": [
    "### Now we try searching for some videos in the dataset that are close to the term Innovation"
   ]
  },
  {
   "cell_type": "code",
   "execution_count": 7,
   "metadata": {},
   "outputs": [
    {
     "name": "stdout",
     "output_type": "stream",
     "text": [
      "Name: 10 Mind-Blowing Facts About Technology and Innovation\n",
      "ID: 337\n",
      "Owner id:89\n",
      "Likes: 24\n",
      "Dislikes: 19\n",
      "Views: 43\n",
      "Tags: 10, Mind-Blowing, Facts, Technology, Innovation\n",
      "=================\n",
      "Name: 10 Ways to Boost Your Creativity and Innovation\n",
      "ID: 331\n",
      "Owner id:88\n",
      "Likes: 16\n",
      "Dislikes: 19\n",
      "Views: 35\n",
      "Tags: 10, Ways, Boost, Creativity, Innovation\n",
      "=================\n",
      "Name: Photography Tutorial: Mastering Composition and Lighting\n",
      "ID: 342\n",
      "Owner id:90\n",
      "Likes: 27\n",
      "Dislikes: 23\n",
      "Views: 50\n",
      "Tags: Photography, Tutorial, Mastering, Composition, Lighting\n",
      "=================\n",
      "Name: The Future of Technology: Innovations That Will Change the World\n",
      "ID: 341\n",
      "Owner id:90\n",
      "Likes: 20\n",
      "Dislikes: 22\n",
      "Views: 42\n",
      "Tags: Future, Technology, Innovations, Change, World\n",
      "=================\n",
      "Name: 10 Easy DIY Crafts for Home Decoration\n",
      "ID: 340\n",
      "Owner id:90\n",
      "Likes: 29\n",
      "Dislikes: 17\n",
      "Views: 46\n",
      "Tags: 10, Easy, DIY, Crafts, Home, Decoration\n",
      "=================\n",
      "Name: Exploring Cultural Festivals: Celebrating Diversity\n",
      "ID: 339\n",
      "Owner id:89\n",
      "Likes: 19\n",
      "Dislikes: 16\n",
      "Views: 38\n",
      "Tags: Exploring, Cultural, Festivals, Celebrating, Diversity\n",
      "=================\n",
      "Name: 10 Essential Skills for Successful Entrepreneurship\n",
      "ID: 338\n",
      "Owner id:89\n",
      "Likes: 20\n",
      "Dislikes: 27\n",
      "Views: 47\n",
      "Tags: 10, Essential, Skills, Successful, Entrepreneurship\n",
      "=================\n",
      "Name: Unboxing the Latest Gaming Console: First Impressions and Review\n",
      "ID: 213\n",
      "Owner id:41\n",
      "Likes: 26\n",
      "Dislikes: 22\n",
      "Views: 48\n",
      "Tags: Unboxing, Latest, Gaming, Console, First, Impressions, Review\n",
      "=================\n",
      "Name: 10 Mind-Blowing Optical Illusions\n",
      "ID: 336\n",
      "Owner id:89\n",
      "Likes: 21\n",
      "Dislikes: 27\n",
      "Views: 48\n",
      "Tags: 10, Mind-Blowing, Optical, Illusions\n",
      "=================\n",
      "Name: Unboxing the Latest Fashion Trends: Hot Styles Revealed\n",
      "ID: 335\n",
      "Owner id:89\n",
      "Likes: 20\n",
      "Dislikes: 26\n",
      "Views: 46\n",
      "Tags: Unboxing, Latest, Fashion, Trends, Hot, Styles, Revealed\n",
      "=================\n",
      "Name: Exploring Street Food: Tasting Local Delicacies\n",
      "ID: 334\n",
      "Owner id:88\n",
      "Likes: 24\n",
      "Dislikes: 24\n",
      "Views: 48\n",
      "Tags: Exploring, Street, Food, Tasting, Local, Delicacies\n",
      "=================\n",
      "Name: DIY Fashion: Upcycling Old Clothes into Trendy Outfits\n",
      "ID: 333\n",
      "Owner id:88\n",
      "Likes: 24\n",
      "Dislikes: 15\n",
      "Views: 39\n",
      "Tags: DIY, Fashion, Upcycling, Old, Clothes, Trendy, Outfits\n",
      "=================\n",
      "Name: Fitness Mythbusters: Debunking Common Exercise Myths\n",
      "ID: 332\n",
      "Owner id:88\n",
      "Likes: 24\n",
      "Dislikes: 20\n",
      "Views: 44\n",
      "Tags: Fitness, Mythbusters, Debunking, Common, Exercise, Myths\n",
      "=================\n",
      "Name: Unboxing the Latest Tech Gadgets: Cutting-Edge Technology Revealed\n",
      "ID: 210\n",
      "Owner id:41\n",
      "Likes: 23\n",
      "Dislikes: 30\n",
      "Views: 53\n",
      "Tags: Unboxing, Latest, Tech, Gadgets, Cutting-Edge, Technology, Revealed\n",
      "=================\n",
      "Name: Getting a new computer\n",
      "ID: 330\n",
      "Owner id:88\n",
      "Likes: 19\n",
      "Dislikes: 19\n",
      "Views: 38\n",
      "Tags: Getting, New, Computer\n",
      "=================\n"
     ]
    }
   ],
   "source": [
    "# while len(my_user.tags) != 0: my_user.tags.pop()  #Clear TAGS\n",
    "stck = my_session.search(\"Innovation\")\n",
    "\n",
    "while len(stck) != 0:\n",
    "    entry_ = stck.pop()\n",
    "    vid_id = entry_.id\n",
    "    print(my_session.registered_videos[vid_id])\n",
    "    print(\"=================\")\n"
   ]
  },
  {
   "attachments": {},
   "cell_type": "markdown",
   "metadata": {},
   "source": [
    "### We watch three videos"
   ]
  },
  {
   "cell_type": "code",
   "execution_count": 8,
   "metadata": {},
   "outputs": [
    {
     "name": "stdout",
     "output_type": "stream",
     "text": [
      "Successfully watched video with ID 342\n",
      "Successfully watched video with ID 341\n",
      "Successfully watched video with ID 210\n"
     ]
    }
   ],
   "source": [
    "my_user.watch_video(342)  # Photography Tutorial: Mastering Composition and Lighting 342\n",
    "my_user.watch_video(341) # The Future of Technology: Innovations That Will Change the World 341\n",
    "my_user.watch_video(210)  # Unboxing the Latest Tech Gadgets: Cutting-Edge Technology Revealed 210"
   ]
  },
  {
   "attachments": {},
   "cell_type": "markdown",
   "metadata": {},
   "source": [
    "### The user liked the video with ID: 210 and decides to subscribe to it owner"
   ]
  },
  {
   "cell_type": "code",
   "execution_count": 9,
   "metadata": {},
   "outputs": [
    {
     "name": "stdout",
     "output_type": "stream",
     "text": [
      "Video with ID 210 successfully liked\n",
      "Successfully subscribed to ID 41\n"
     ]
    }
   ],
   "source": [
    "my_user.like(210)\n",
    "my_user.subscribe( my_session.registered_videos[\"210\"].get_owner_id() )"
   ]
  },
  {
   "attachments": {},
   "cell_type": "markdown",
   "metadata": {},
   "source": [
    "### We perform another recommendation and we could notice how the last actions have influenced the recommendations"
   ]
  },
  {
   "cell_type": "code",
   "execution_count": 10,
   "metadata": {},
   "outputs": [
    {
     "name": "stdout",
     "output_type": "stream",
     "text": [
      "Name: Unboxing the Latest Tech Gadgets: Cutting-Edge Technology Revealed\n",
      "ID: 210\n",
      "Owner id:41\n",
      "Likes: 24\n",
      "Dislikes: 30\n",
      "Views: 54\n",
      "Tags: Unboxing, Latest, Tech, Gadgets, Cutting-Edge, Technology, Revealed\n",
      "=================\n",
      "Name: Exploring World Cuisines: A Culinary Journey\n",
      "ID: 113\n",
      "Owner id:8\n",
      "Likes: 29\n",
      "Dislikes: 30\n",
      "Views: 59\n",
      "Tags: Exploring, World, Cuisines, Culinary, Journey\n",
      "=================\n",
      "Name: Unboxing and Review: Testing the Hottest Tech Gadgets\n",
      "ID: 160\n",
      "Owner id:22\n",
      "Likes: 24\n",
      "Dislikes: 32\n",
      "Views: 56\n",
      "Tags: Unboxing, Review, Testing, Hottest, Tech, Gadgets\n",
      "=================\n",
      "Name: Unboxing the Latest Tech Gadgets\n",
      "ID: 262\n",
      "Owner id:62\n",
      "Likes: 29\n",
      "Dislikes: 24\n",
      "Views: 53\n",
      "Tags: Unboxing, Latest, Tech, Gadgets\n",
      "=================\n",
      "Name: Exploring the World of Virtual Reality: Immersive Experiences\n",
      "ID: 269\n",
      "Owner id:64\n",
      "Likes: 28\n",
      "Dislikes: 26\n",
      "Views: 54\n",
      "Tags: Exploring, World, Virtual, Reality, Immersive, Experiences\n",
      "=================\n",
      "Name: Unboxing the Latest Mobile Phones\n",
      "ID: 154\n",
      "Owner id:21\n",
      "Likes: 27\n",
      "Dislikes: 26\n",
      "Views: 53\n",
      "Tags: Unboxing, Latest, Mobile, Phones\n",
      "=================\n",
      "Name: The Science of Cooking: Molecular Gastronomy and Culinary Innovations\n",
      "ID: 304\n",
      "Owner id:78\n",
      "Likes: 30\n",
      "Dislikes: 21\n",
      "Views: 51\n",
      "Tags: Science, Cooking, Molecular, Gastronomy, Culinary, Innovations\n",
      "=================\n",
      "Name: The Science of Cooking: Molecular Gastronomy and Culinary Innovations\n",
      "ID: 327\n",
      "Owner id:87\n",
      "Likes: 23\n",
      "Dislikes: 29\n",
      "Views: 52\n",
      "Tags: Science, Cooking, Molecular, Gastronomy, Culinary, Innovations\n",
      "=================\n",
      "Name: Exploring World Cuisine: Tasting Flavors from Around the Globe\n",
      "ID: 313\n",
      "Owner id:82\n",
      "Likes: 26\n",
      "Dislikes: 24\n",
      "Views: 50\n",
      "Tags: Exploring, World, Cuisine, Tasting, Flavors, Around, Globe\n",
      "=================\n",
      "Name: Digital Nomad Lifestyle: Working and Traveling the World\n",
      "ID: 311\n",
      "Owner id:81\n",
      "Likes: 28\n",
      "Dislikes: 21\n",
      "Views: 49\n",
      "Tags: Digital, Nomad, Lifestyle, Working, Traveling, World\n",
      "=================\n"
     ]
    }
   ],
   "source": [
    "heap = my_session.recommend()\n",
    "\n",
    "i = 0\n",
    "while len(heap) != 0 and i < 10:\n",
    "    vid_id = heap.pop().id\n",
    "    print(my_session.registered_videos[vid_id])\n",
    "    print(\"=================\")\n",
    "    i += 1"
   ]
  },
  {
   "attachments": {},
   "cell_type": "markdown",
   "metadata": {},
   "source": [
    "### We save the current system state to the dataset\n",
    "\n",
    "###### warning: This will save the created and tested user data and video data to the dataset"
   ]
  },
  {
   "cell_type": "code",
   "execution_count": null,
   "metadata": {},
   "outputs": [],
   "source": [
    "#my_session.save()"
   ]
  }
 ],
 "metadata": {
  "kernelspec": {
   "display_name": "Python 3",
   "language": "python",
   "name": "python3"
  },
  "language_info": {
   "codemirror_mode": {
    "name": "ipython",
    "version": 3
   },
   "file_extension": ".py",
   "mimetype": "text/x-python",
   "name": "python",
   "nbconvert_exporter": "python",
   "pygments_lexer": "ipython3",
   "version": "3.10.0"
  },
  "orig_nbformat": 4
 },
 "nbformat": 4,
 "nbformat_minor": 2
}
